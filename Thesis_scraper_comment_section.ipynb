{
 "cells": [
  {
   "cell_type": "markdown",
   "metadata": {},
   "source": [
    "# Comment section scraper"
   ]
  },
  {
   "cell_type": "markdown",
   "metadata": {},
   "source": [
    "## Part 1 Basic steps\n",
    "In the first part we will start by importing the right packages and load the data required to let the scraper work"
   ]
  },
  {
   "cell_type": "markdown",
   "metadata": {},
   "source": [
    "#### Step 1\n",
    "First we import the packages required for the scraper to work"
   ]
  },
  {
   "cell_type": "code",
   "execution_count": 1,
   "metadata": {},
   "outputs": [],
   "source": [
    "import time\n",
    "import selenium.webdriver\n",
    "from bs4 import BeautifulSoup\n",
    "from time import sleep\n",
    "import pandas as pd\n",
    "from tqdm import tqdm\n",
    "from selenium.webdriver.support import expected_conditions as EC\n",
    "from selenium.webdriver.common.by import By\n",
    "from selenium.webdriver.support.ui import WebDriverWait"
   ]
  },
  {
   "cell_type": "markdown",
   "metadata": {},
   "source": [
    "#### Step 2 \n",
    "First we import the first 200 video codes which will be used to make the scraper work. "
   ]
  },
  {
   "cell_type": "code",
   "execution_count": 24,
   "metadata": {},
   "outputs": [
    {
     "data": {
      "text/html": [
       "<div>\n",
       "<style scoped>\n",
       "    .dataframe tbody tr th:only-of-type {\n",
       "        vertical-align: middle;\n",
       "    }\n",
       "\n",
       "    .dataframe tbody tr th {\n",
       "        vertical-align: top;\n",
       "    }\n",
       "\n",
       "    .dataframe thead th {\n",
       "        text-align: right;\n",
       "    }\n",
       "</style>\n",
       "<table border=\"1\" class=\"dataframe\">\n",
       "  <thead>\n",
       "    <tr style=\"text-align: right;\">\n",
       "      <th></th>\n",
       "      <th>video_id</th>\n",
       "    </tr>\n",
       "  </thead>\n",
       "  <tbody>\n",
       "    <tr>\n",
       "      <th>0</th>\n",
       "      <td>-BCT3VDlkQc</td>\n",
       "    </tr>\n",
       "    <tr>\n",
       "      <th>1</th>\n",
       "      <td>-I0FjdwcSm0</td>\n",
       "    </tr>\n",
       "    <tr>\n",
       "      <th>2</th>\n",
       "      <td>-M_r8MKQ3mo</td>\n",
       "    </tr>\n",
       "    <tr>\n",
       "      <th>3</th>\n",
       "      <td>-Ot0vHUyEpw</td>\n",
       "    </tr>\n",
       "    <tr>\n",
       "      <th>4</th>\n",
       "      <td>-r5jmwTFb6M</td>\n",
       "    </tr>\n",
       "    <tr>\n",
       "      <th>...</th>\n",
       "      <td>...</td>\n",
       "    </tr>\n",
       "    <tr>\n",
       "      <th>195</th>\n",
       "      <td>ydn7Kku1cPg</td>\n",
       "    </tr>\n",
       "    <tr>\n",
       "      <th>196</th>\n",
       "      <td>zHytqDhPVgE</td>\n",
       "    </tr>\n",
       "    <tr>\n",
       "      <th>197</th>\n",
       "      <td>zisuhZqTeH4</td>\n",
       "    </tr>\n",
       "    <tr>\n",
       "      <th>198</th>\n",
       "      <td>zqllxbPWKNI</td>\n",
       "    </tr>\n",
       "    <tr>\n",
       "      <th>199</th>\n",
       "      <td>zy8vIiE8xXY</td>\n",
       "    </tr>\n",
       "  </tbody>\n",
       "</table>\n",
       "<p>200 rows × 1 columns</p>\n",
       "</div>"
      ],
      "text/plain": [
       "        video_id\n",
       "0    -BCT3VDlkQc\n",
       "1    -I0FjdwcSm0\n",
       "2    -M_r8MKQ3mo\n",
       "3    -Ot0vHUyEpw\n",
       "4    -r5jmwTFb6M\n",
       "..           ...\n",
       "195  ydn7Kku1cPg\n",
       "196  zHytqDhPVgE\n",
       "197  zisuhZqTeH4\n",
       "198  zqllxbPWKNI\n",
       "199  zy8vIiE8xXY\n",
       "\n",
       "[200 rows x 1 columns]"
      ]
     },
     "execution_count": 24,
     "metadata": {},
     "output_type": "execute_result"
    }
   ],
   "source": [
    "dataset_videos1 = pd.read_csv(r'videos_p1.csv', low_memory = False, sep = \",\")\n",
    "dataset_videos1"
   ]
  },
  {
   "cell_type": "code",
   "execution_count": 25,
   "metadata": {},
   "outputs": [
    {
     "data": {
      "text/plain": [
       "0      -BCT3VDlkQc\n",
       "1      -I0FjdwcSm0\n",
       "2      -M_r8MKQ3mo\n",
       "3      -Ot0vHUyEpw\n",
       "4      -r5jmwTFb6M\n",
       "          ...     \n",
       "195    ydn7Kku1cPg\n",
       "196    zHytqDhPVgE\n",
       "197    zisuhZqTeH4\n",
       "198    zqllxbPWKNI\n",
       "199    zy8vIiE8xXY\n",
       "Name: video_id, Length: 200, dtype: object"
      ]
     },
     "execution_count": 25,
     "metadata": {},
     "output_type": "execute_result"
    }
   ],
   "source": [
    "dataset_videos1 = dataset_videos1['video_id']\n",
    "dataset_videos1"
   ]
  },
  {
   "cell_type": "markdown",
   "metadata": {},
   "source": [
    "## Part 2 Scraper comment section\n",
    "In this scraper we start to extract the people who makes comments on Youtube and those who react to is. The main goal of this is to extract a dataset per video to detect to what extend the creator of the video reacts to the comments. "
   ]
  },
  {
   "cell_type": "markdown",
   "metadata": {},
   "source": [
    "#### Step 3\n",
    "This scraper will check for every video whether the creator interacted with the audience or not. \n",
    "This scraper will work for the first 200 videos."
   ]
  },
  {
   "cell_type": "code",
   "execution_count": 27,
   "metadata": {},
   "outputs": [],
   "source": [
    "def interact_creator(urls):\n",
    "    interactivity = []\n",
    "    for url in tqdm(urls):\n",
    "        driver = selenium.webdriver.Chrome()\n",
    "        driver.get(\"https://www.youtube.com/watch?v=\" + url)\n",
    "\n",
    "        time.sleep(5)\n",
    "        consent_button_xpath = \"//tp-yt-paper-button[@aria-label='Akkoord gaan met het gebruik van cookies en andere gegevens voor de beschreven doeleinden']\"\n",
    "        consent = driver.find_element_by_xpath(consent_button_xpath)\n",
    "        consent.click()\n",
    "    \n",
    "        driver.execute_script(\"window.scrollTo(0, 480)\") \n",
    "        sleep(2.5)\n",
    "    \n",
    "        #Load all comments\n",
    "        while True:\n",
    "            scroll_height = 5000\n",
    "            document_height_before = driver.execute_script(\"return document.documentElement.scrollHeight\")\n",
    "            driver.execute_script(f\"window.scrollTo(0, {document_height_before + scroll_height});\")\n",
    "            time.sleep(2)\n",
    "            document_height_after = driver.execute_script(\"return document.documentElement.scrollHeight\")\n",
    "            if document_height_after == document_height_before:\n",
    "                break\n",
    "        \n",
    "        res = driver.page_source.encode('utf-8')\n",
    "        soup = BeautifulSoup(res, \"html.parser\")\n",
    "        \n",
    "        def video_code():\n",
    "            try:\n",
    "                video_code = soup.find(\"meta\", itemprop=\"videoId\")[\"content\"]\n",
    "                return(video_code)\n",
    "            except:\n",
    "                return\n",
    "        \n",
    "        def hearts():\n",
    "            try:\n",
    "                hearts = len(driver.find_elements_by_id('creator-heart-button'))\n",
    "                return(hearts)\n",
    "            except:\n",
    "                return \n",
    "            \n",
    "        def comments():\n",
    "            try:\n",
    "                comments = len(driver.find_elements_by_xpath(\"//yt-formatted-string[@id='text']/span[4]\"))\n",
    "                return(comments)\n",
    "            except:\n",
    "                return \n",
    "        \n",
    "        interactivity.append({\"video_code\" : video_code(),\n",
    "                                 \"hearts\" : hearts(),\n",
    "                                    \"comments\" : comments()})\n",
    "        \n",
    "        sleep (1)\n",
    "    return interactivity "
   ]
  },
  {
   "cell_type": "code",
   "execution_count": null,
   "metadata": {},
   "outputs": [],
   "source": [
    "interactive1 = interact_creator(dataset_videos1) \n",
    "interactive1"
   ]
  },
  {
   "cell_type": "code",
   "execution_count": 6,
   "metadata": {},
   "outputs": [
    {
     "data": {
      "text/html": [
       "<div>\n",
       "<style scoped>\n",
       "    .dataframe tbody tr th:only-of-type {\n",
       "        vertical-align: middle;\n",
       "    }\n",
       "\n",
       "    .dataframe tbody tr th {\n",
       "        vertical-align: top;\n",
       "    }\n",
       "\n",
       "    .dataframe thead th {\n",
       "        text-align: right;\n",
       "    }\n",
       "</style>\n",
       "<table border=\"1\" class=\"dataframe\">\n",
       "  <thead>\n",
       "    <tr style=\"text-align: right;\">\n",
       "      <th></th>\n",
       "      <th>video_code</th>\n",
       "      <th>hearts</th>\n",
       "      <th>comments</th>\n",
       "    </tr>\n",
       "  </thead>\n",
       "  <tbody>\n",
       "    <tr>\n",
       "      <th>0</th>\n",
       "      <td>b8HVQtIoBYU</td>\n",
       "      <td>22</td>\n",
       "      <td>2</td>\n",
       "    </tr>\n",
       "    <tr>\n",
       "      <th>1</th>\n",
       "      <td>2tMwq5lHbWg</td>\n",
       "      <td>0</td>\n",
       "      <td>0</td>\n",
       "    </tr>\n",
       "    <tr>\n",
       "      <th>2</th>\n",
       "      <td>949C_lwEyFM</td>\n",
       "      <td>0</td>\n",
       "      <td>1</td>\n",
       "    </tr>\n",
       "  </tbody>\n",
       "</table>\n",
       "</div>"
      ],
      "text/plain": [
       "    video_code  hearts  comments\n",
       "0  b8HVQtIoBYU      22         2\n",
       "1  2tMwq5lHbWg       0         0\n",
       "2  949C_lwEyFM       0         1"
      ]
     },
     "execution_count": 6,
     "metadata": {},
     "output_type": "execute_result"
    }
   ],
   "source": [
    "interactivity_creator = pd.DataFrame(interactive)\n",
    "interactivity_creator.to_csv(\"interactivity_creator.csv\", index=False)\n",
    "interactivity_creator"
   ]
  }
 ],
 "metadata": {
  "kernelspec": {
   "display_name": "Python 3",
   "language": "python",
   "name": "python3"
  },
  "language_info": {
   "codemirror_mode": {
    "name": "ipython",
    "version": 3
   },
   "file_extension": ".py",
   "mimetype": "text/x-python",
   "name": "python",
   "nbconvert_exporter": "python",
   "pygments_lexer": "ipython3",
   "version": "3.8.5"
  }
 },
 "nbformat": 4,
 "nbformat_minor": 4
}
